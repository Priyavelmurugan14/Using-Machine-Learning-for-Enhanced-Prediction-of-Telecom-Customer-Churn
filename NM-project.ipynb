{
  "nbformat": 4,
  "nbformat_minor": 0,
  "metadata": {
    "colab": {
      "provenance": []
    },
    "kernelspec": {
      "name": "python3",
      "display_name": "Python 3"
    },
    "language_info": {
      "name": "python"
    }
  },
  "cells": [
    {
      "cell_type": "code",
      "execution_count": null,
      "metadata": {
        "id": "ohaUTCWj4jHL"
      },
      "outputs": [],
      "source": [
        "#import necessary libraries\n",
        "import pandas as pd\n",
        "import numpy as np\n",
        "import pickle \n",
        "import matplotlib.pyplot as plt\n",
        "%matplotlib inline\n",
        "import seaborn as sns\n",
        "import sklearn\n",
        "from sklearn.preprocessing import LabelEncoder,OneHotEncoder\n",
        "from sklearn.linear_model import LogisticRegression\n",
        "from sklearn.tree import DecisionTreeClassifier\n",
        "from sklearn.ensemble import RandomForestClassifier\n",
        "from sklearn.neighbors import KNeighborsClassifier\n",
        "from sklearn.svm import SVC\n",
        "from sklearn.model_selection import RandomizedSearchCV\n",
        "import imblearn\n",
        "from imblearn.over_sampling import SMOTE\n",
        "from sklearn.model_selection import train_test_split\n",
        "from sklearn.preprocessing import StandardScaler\n",
        "from sklearn.metrics import accuracy_score,classification_report,confusion_matrix,f1_score"
      ]
    },
    {
      "cell_type": "code",
      "source": [
        "#import dataset\n",
        "data=pd.read_csv(r\"/content/archive (2).zip\")\n",
        "data"
      ],
      "metadata": {
        "id": "pxtuReHZ5yjP",
        "colab": {
          "base_uri": "https://localhost:8080/",
          "height": 488
        },
        "outputId": "76720c04-0c9d-4eb9-dad9-dbe5b56dd42f"
      },
      "execution_count": null,
      "outputs": [
        {
          "output_type": "execute_result",
          "data": {
            "text/plain": [
              "      RowNumber  CustomerId    Surname  CreditScore Geography  Gender  Age  \\\n",
              "0             1    15634602   Hargrave          619    France  Female   42   \n",
              "1             2    15647311       Hill          608     Spain  Female   41   \n",
              "2             3    15619304       Onio          502    France  Female   42   \n",
              "3             4    15701354       Boni          699    France  Female   39   \n",
              "4             5    15737888   Mitchell          850     Spain  Female   43   \n",
              "...         ...         ...        ...          ...       ...     ...  ...   \n",
              "9995       9996    15606229   Obijiaku          771    France    Male   39   \n",
              "9996       9997    15569892  Johnstone          516    France    Male   35   \n",
              "9997       9998    15584532        Liu          709    France  Female   36   \n",
              "9998       9999    15682355  Sabbatini          772   Germany    Male   42   \n",
              "9999      10000    15628319     Walker          792    France  Female   28   \n",
              "\n",
              "      Tenure    Balance  NumOfProducts  HasCrCard  IsActiveMember  \\\n",
              "0          2       0.00              1          1               1   \n",
              "1          1   83807.86              1          0               1   \n",
              "2          8  159660.80              3          1               0   \n",
              "3          1       0.00              2          0               0   \n",
              "4          2  125510.82              1          1               1   \n",
              "...      ...        ...            ...        ...             ...   \n",
              "9995       5       0.00              2          1               0   \n",
              "9996      10   57369.61              1          1               1   \n",
              "9997       7       0.00              1          0               1   \n",
              "9998       3   75075.31              2          1               0   \n",
              "9999       4  130142.79              1          1               0   \n",
              "\n",
              "      EstimatedSalary  Exited  \n",
              "0           101348.88       1  \n",
              "1           112542.58       0  \n",
              "2           113931.57       1  \n",
              "3            93826.63       0  \n",
              "4            79084.10       0  \n",
              "...               ...     ...  \n",
              "9995         96270.64       0  \n",
              "9996        101699.77       0  \n",
              "9997         42085.58       1  \n",
              "9998         92888.52       1  \n",
              "9999         38190.78       0  \n",
              "\n",
              "[10000 rows x 14 columns]"
            ],
            "text/html": [
              "\n",
              "  <div id=\"df-d8b70fd6-aa27-4c30-ba6e-3a8d9a397748\">\n",
              "    <div class=\"colab-df-container\">\n",
              "      <div>\n",
              "<style scoped>\n",
              "    .dataframe tbody tr th:only-of-type {\n",
              "        vertical-align: middle;\n",
              "    }\n",
              "\n",
              "    .dataframe tbody tr th {\n",
              "        vertical-align: top;\n",
              "    }\n",
              "\n",
              "    .dataframe thead th {\n",
              "        text-align: right;\n",
              "    }\n",
              "</style>\n",
              "<table border=\"1\" class=\"dataframe\">\n",
              "  <thead>\n",
              "    <tr style=\"text-align: right;\">\n",
              "      <th></th>\n",
              "      <th>RowNumber</th>\n",
              "      <th>CustomerId</th>\n",
              "      <th>Surname</th>\n",
              "      <th>CreditScore</th>\n",
              "      <th>Geography</th>\n",
              "      <th>Gender</th>\n",
              "      <th>Age</th>\n",
              "      <th>Tenure</th>\n",
              "      <th>Balance</th>\n",
              "      <th>NumOfProducts</th>\n",
              "      <th>HasCrCard</th>\n",
              "      <th>IsActiveMember</th>\n",
              "      <th>EstimatedSalary</th>\n",
              "      <th>Exited</th>\n",
              "    </tr>\n",
              "  </thead>\n",
              "  <tbody>\n",
              "    <tr>\n",
              "      <th>0</th>\n",
              "      <td>1</td>\n",
              "      <td>15634602</td>\n",
              "      <td>Hargrave</td>\n",
              "      <td>619</td>\n",
              "      <td>France</td>\n",
              "      <td>Female</td>\n",
              "      <td>42</td>\n",
              "      <td>2</td>\n",
              "      <td>0.00</td>\n",
              "      <td>1</td>\n",
              "      <td>1</td>\n",
              "      <td>1</td>\n",
              "      <td>101348.88</td>\n",
              "      <td>1</td>\n",
              "    </tr>\n",
              "    <tr>\n",
              "      <th>1</th>\n",
              "      <td>2</td>\n",
              "      <td>15647311</td>\n",
              "      <td>Hill</td>\n",
              "      <td>608</td>\n",
              "      <td>Spain</td>\n",
              "      <td>Female</td>\n",
              "      <td>41</td>\n",
              "      <td>1</td>\n",
              "      <td>83807.86</td>\n",
              "      <td>1</td>\n",
              "      <td>0</td>\n",
              "      <td>1</td>\n",
              "      <td>112542.58</td>\n",
              "      <td>0</td>\n",
              "    </tr>\n",
              "    <tr>\n",
              "      <th>2</th>\n",
              "      <td>3</td>\n",
              "      <td>15619304</td>\n",
              "      <td>Onio</td>\n",
              "      <td>502</td>\n",
              "      <td>France</td>\n",
              "      <td>Female</td>\n",
              "      <td>42</td>\n",
              "      <td>8</td>\n",
              "      <td>159660.80</td>\n",
              "      <td>3</td>\n",
              "      <td>1</td>\n",
              "      <td>0</td>\n",
              "      <td>113931.57</td>\n",
              "      <td>1</td>\n",
              "    </tr>\n",
              "    <tr>\n",
              "      <th>3</th>\n",
              "      <td>4</td>\n",
              "      <td>15701354</td>\n",
              "      <td>Boni</td>\n",
              "      <td>699</td>\n",
              "      <td>France</td>\n",
              "      <td>Female</td>\n",
              "      <td>39</td>\n",
              "      <td>1</td>\n",
              "      <td>0.00</td>\n",
              "      <td>2</td>\n",
              "      <td>0</td>\n",
              "      <td>0</td>\n",
              "      <td>93826.63</td>\n",
              "      <td>0</td>\n",
              "    </tr>\n",
              "    <tr>\n",
              "      <th>4</th>\n",
              "      <td>5</td>\n",
              "      <td>15737888</td>\n",
              "      <td>Mitchell</td>\n",
              "      <td>850</td>\n",
              "      <td>Spain</td>\n",
              "      <td>Female</td>\n",
              "      <td>43</td>\n",
              "      <td>2</td>\n",
              "      <td>125510.82</td>\n",
              "      <td>1</td>\n",
              "      <td>1</td>\n",
              "      <td>1</td>\n",
              "      <td>79084.10</td>\n",
              "      <td>0</td>\n",
              "    </tr>\n",
              "    <tr>\n",
              "      <th>...</th>\n",
              "      <td>...</td>\n",
              "      <td>...</td>\n",
              "      <td>...</td>\n",
              "      <td>...</td>\n",
              "      <td>...</td>\n",
              "      <td>...</td>\n",
              "      <td>...</td>\n",
              "      <td>...</td>\n",
              "      <td>...</td>\n",
              "      <td>...</td>\n",
              "      <td>...</td>\n",
              "      <td>...</td>\n",
              "      <td>...</td>\n",
              "      <td>...</td>\n",
              "    </tr>\n",
              "    <tr>\n",
              "      <th>9995</th>\n",
              "      <td>9996</td>\n",
              "      <td>15606229</td>\n",
              "      <td>Obijiaku</td>\n",
              "      <td>771</td>\n",
              "      <td>France</td>\n",
              "      <td>Male</td>\n",
              "      <td>39</td>\n",
              "      <td>5</td>\n",
              "      <td>0.00</td>\n",
              "      <td>2</td>\n",
              "      <td>1</td>\n",
              "      <td>0</td>\n",
              "      <td>96270.64</td>\n",
              "      <td>0</td>\n",
              "    </tr>\n",
              "    <tr>\n",
              "      <th>9996</th>\n",
              "      <td>9997</td>\n",
              "      <td>15569892</td>\n",
              "      <td>Johnstone</td>\n",
              "      <td>516</td>\n",
              "      <td>France</td>\n",
              "      <td>Male</td>\n",
              "      <td>35</td>\n",
              "      <td>10</td>\n",
              "      <td>57369.61</td>\n",
              "      <td>1</td>\n",
              "      <td>1</td>\n",
              "      <td>1</td>\n",
              "      <td>101699.77</td>\n",
              "      <td>0</td>\n",
              "    </tr>\n",
              "    <tr>\n",
              "      <th>9997</th>\n",
              "      <td>9998</td>\n",
              "      <td>15584532</td>\n",
              "      <td>Liu</td>\n",
              "      <td>709</td>\n",
              "      <td>France</td>\n",
              "      <td>Female</td>\n",
              "      <td>36</td>\n",
              "      <td>7</td>\n",
              "      <td>0.00</td>\n",
              "      <td>1</td>\n",
              "      <td>0</td>\n",
              "      <td>1</td>\n",
              "      <td>42085.58</td>\n",
              "      <td>1</td>\n",
              "    </tr>\n",
              "    <tr>\n",
              "      <th>9998</th>\n",
              "      <td>9999</td>\n",
              "      <td>15682355</td>\n",
              "      <td>Sabbatini</td>\n",
              "      <td>772</td>\n",
              "      <td>Germany</td>\n",
              "      <td>Male</td>\n",
              "      <td>42</td>\n",
              "      <td>3</td>\n",
              "      <td>75075.31</td>\n",
              "      <td>2</td>\n",
              "      <td>1</td>\n",
              "      <td>0</td>\n",
              "      <td>92888.52</td>\n",
              "      <td>1</td>\n",
              "    </tr>\n",
              "    <tr>\n",
              "      <th>9999</th>\n",
              "      <td>10000</td>\n",
              "      <td>15628319</td>\n",
              "      <td>Walker</td>\n",
              "      <td>792</td>\n",
              "      <td>France</td>\n",
              "      <td>Female</td>\n",
              "      <td>28</td>\n",
              "      <td>4</td>\n",
              "      <td>130142.79</td>\n",
              "      <td>1</td>\n",
              "      <td>1</td>\n",
              "      <td>0</td>\n",
              "      <td>38190.78</td>\n",
              "      <td>0</td>\n",
              "    </tr>\n",
              "  </tbody>\n",
              "</table>\n",
              "<p>10000 rows × 14 columns</p>\n",
              "</div>\n",
              "      <button class=\"colab-df-convert\" onclick=\"convertToInteractive('df-d8b70fd6-aa27-4c30-ba6e-3a8d9a397748')\"\n",
              "              title=\"Convert this dataframe to an interactive table.\"\n",
              "              style=\"display:none;\">\n",
              "        \n",
              "  <svg xmlns=\"http://www.w3.org/2000/svg\" height=\"24px\"viewBox=\"0 0 24 24\"\n",
              "       width=\"24px\">\n",
              "    <path d=\"M0 0h24v24H0V0z\" fill=\"none\"/>\n",
              "    <path d=\"M18.56 5.44l.94 2.06.94-2.06 2.06-.94-2.06-.94-.94-2.06-.94 2.06-2.06.94zm-11 1L8.5 8.5l.94-2.06 2.06-.94-2.06-.94L8.5 2.5l-.94 2.06-2.06.94zm10 10l.94 2.06.94-2.06 2.06-.94-2.06-.94-.94-2.06-.94 2.06-2.06.94z\"/><path d=\"M17.41 7.96l-1.37-1.37c-.4-.4-.92-.59-1.43-.59-.52 0-1.04.2-1.43.59L10.3 9.45l-7.72 7.72c-.78.78-.78 2.05 0 2.83L4 21.41c.39.39.9.59 1.41.59.51 0 1.02-.2 1.41-.59l7.78-7.78 2.81-2.81c.8-.78.8-2.07 0-2.86zM5.41 20L4 18.59l7.72-7.72 1.47 1.35L5.41 20z\"/>\n",
              "  </svg>\n",
              "      </button>\n",
              "      \n",
              "  <style>\n",
              "    .colab-df-container {\n",
              "      display:flex;\n",
              "      flex-wrap:wrap;\n",
              "      gap: 12px;\n",
              "    }\n",
              "\n",
              "    .colab-df-convert {\n",
              "      background-color: #E8F0FE;\n",
              "      border: none;\n",
              "      border-radius: 50%;\n",
              "      cursor: pointer;\n",
              "      display: none;\n",
              "      fill: #1967D2;\n",
              "      height: 32px;\n",
              "      padding: 0 0 0 0;\n",
              "      width: 32px;\n",
              "    }\n",
              "\n",
              "    .colab-df-convert:hover {\n",
              "      background-color: #E2EBFA;\n",
              "      box-shadow: 0px 1px 2px rgba(60, 64, 67, 0.3), 0px 1px 3px 1px rgba(60, 64, 67, 0.15);\n",
              "      fill: #174EA6;\n",
              "    }\n",
              "\n",
              "    [theme=dark] .colab-df-convert {\n",
              "      background-color: #3B4455;\n",
              "      fill: #D2E3FC;\n",
              "    }\n",
              "\n",
              "    [theme=dark] .colab-df-convert:hover {\n",
              "      background-color: #434B5C;\n",
              "      box-shadow: 0px 1px 3px 1px rgba(0, 0, 0, 0.15);\n",
              "      filter: drop-shadow(0px 1px 2px rgba(0, 0, 0, 0.3));\n",
              "      fill: #FFFFFF;\n",
              "    }\n",
              "  </style>\n",
              "\n",
              "      <script>\n",
              "        const buttonEl =\n",
              "          document.querySelector('#df-d8b70fd6-aa27-4c30-ba6e-3a8d9a397748 button.colab-df-convert');\n",
              "        buttonEl.style.display =\n",
              "          google.colab.kernel.accessAllowed ? 'block' : 'none';\n",
              "\n",
              "        async function convertToInteractive(key) {\n",
              "          const element = document.querySelector('#df-d8b70fd6-aa27-4c30-ba6e-3a8d9a397748');\n",
              "          const dataTable =\n",
              "            await google.colab.kernel.invokeFunction('convertToInteractive',\n",
              "                                                     [key], {});\n",
              "          if (!dataTable) return;\n",
              "\n",
              "          const docLinkHtml = 'Like what you see? Visit the ' +\n",
              "            '<a target=\"_blank\" href=https://colab.research.google.com/notebooks/data_table.ipynb>data table notebook</a>'\n",
              "            + ' to learn more about interactive tables.';\n",
              "          element.innerHTML = '';\n",
              "          dataTable['output_type'] = 'display_data';\n",
              "          await google.colab.output.renderOutput(dataTable, element);\n",
              "          const docLink = document.createElement('div');\n",
              "          docLink.innerHTML = docLinkHtml;\n",
              "          element.appendChild(docLink);\n",
              "        }\n",
              "      </script>\n",
              "    </div>\n",
              "  </div>\n",
              "  "
            ]
          },
          "metadata": {},
          "execution_count": 21
        }
      ]
    },
    {
      "cell_type": "code",
      "source": [
        "data.info()"
      ],
      "metadata": {
        "id": "fVa0gudJ5-ny",
        "colab": {
          "base_uri": "https://localhost:8080/"
        },
        "outputId": "da06c46c-a10a-418b-df3c-7d9d2c78295e"
      },
      "execution_count": null,
      "outputs": [
        {
          "output_type": "stream",
          "name": "stdout",
          "text": [
            "<class 'pandas.core.frame.DataFrame'>\n",
            "RangeIndex: 10000 entries, 0 to 9999\n",
            "Data columns (total 14 columns):\n",
            " #   Column           Non-Null Count  Dtype  \n",
            "---  ------           --------------  -----  \n",
            " 0   RowNumber        10000 non-null  int64  \n",
            " 1   CustomerId       10000 non-null  int64  \n",
            " 2   Surname          10000 non-null  object \n",
            " 3   CreditScore      10000 non-null  int64  \n",
            " 4   Geography        10000 non-null  object \n",
            " 5   Gender           10000 non-null  object \n",
            " 6   Age              10000 non-null  int64  \n",
            " 7   Tenure           10000 non-null  int64  \n",
            " 8   Balance          10000 non-null  float64\n",
            " 9   NumOfProducts    10000 non-null  int64  \n",
            " 10  HasCrCard        10000 non-null  int64  \n",
            " 11  IsActiveMember   10000 non-null  int64  \n",
            " 12  EstimatedSalary  10000 non-null  float64\n",
            " 13  Exited           10000 non-null  int64  \n",
            "dtypes: float64(2), int64(9), object(3)\n",
            "memory usage: 1.1+ MB\n"
          ]
        }
      ]
    },
    {
      "cell_type": "code",
      "source": [
        "import pandas as pd"
      ],
      "metadata": {
        "id": "F_YluA3TmfJP"
      },
      "execution_count": null,
      "outputs": []
    },
    {
      "cell_type": "code",
      "source": [
        "#checking for null values\n",
        "data.TotalCharges = pd.to_numeric(data.TotalCharges, errors='coerce')\n",
        "data.isnull().any()"
      ],
      "metadata": {
        "id": "bbrAC8P46EJ3"
      },
      "execution_count": null,
      "outputs": []
    },
    {
      "cell_type": "code",
      "source": [
        "from sklearn.preprocessing import LabelEncoder\n",
        "le = LabelEncoder()\n",
        "data[\"Gender\"] = le.fit_transform(data[\"Gender\"])\n",
        "data[\"Partner\"] = le.fit_transform(data[\"Partner\"])\n",
        "data[\"Dependents\"] = le.fit_transform(data[\"Dependents\"])\n",
        "data[\"Phoneservice\"] = le.fit_transform(data[\"Phoneservice\"])\n",
        "data[\"Multiplelines\"] = le.fit_transform(data[\"Multiplelines\"])\n",
        "data[\"Internetservice\"] = le.fit_transform(data[\"Internetservice\"])\n",
        "data[\"OnlineSecurity\"] = le.fit_transform(data[\"Onlinesecurity\"])\n",
        "data[\"Onlinebackup\"] = le.fit_transform(data[\"Onlinebeackup\"])\n",
        "data[\"DeviceProtection\"] = le.fit_transform(data[\"DeviceProtection\"])\n",
        "data[\"TechSupport\"] = le.fit_transform(data[\"TechSupport\"])\n",
        "data[\"StreamingTv\"] = le.fit_transform(data[\"StreamingTv\"])\n",
        "data[\"streamingmoving\"] = le.fit_transform(data[\"streamingmoving\"])\n",
        "data[\"Contract\"] = le.fit_transform(data[\"Contract\"])\n",
        "data[\"PaperlessBilling\"] = le.fit_transform(data[\"PaperlessBilling\"])\n",
        "data[\"PaymentMethod\"] = le.fit_transform(data[\"PaymentMethod\"])\n",
        "data[\"Churn\"] = le.fit_transform(data[\"Churn\"])"
      ],
      "metadata": {
        "id": "7LlpbRyf6s3u",
        "colab": {
          "base_uri": "https://localhost:8080/",
          "height": 536
        },
        "outputId": "5c456b21-fb21-460a-9533-b78e0703a85a"
      },
      "execution_count": null,
      "outputs": [
        {
          "output_type": "error",
          "ename": "KeyError",
          "evalue": "ignored",
          "traceback": [
            "\u001b[0;31m---------------------------------------------------------------------------\u001b[0m",
            "\u001b[0;31mKeyError\u001b[0m                                  Traceback (most recent call last)",
            "\u001b[0;32m/usr/local/lib/python3.9/dist-packages/pandas/core/indexes/base.py\u001b[0m in \u001b[0;36mget_loc\u001b[0;34m(self, key, method, tolerance)\u001b[0m\n\u001b[1;32m   3801\u001b[0m             \u001b[0;32mtry\u001b[0m\u001b[0;34m:\u001b[0m\u001b[0;34m\u001b[0m\u001b[0;34m\u001b[0m\u001b[0m\n\u001b[0;32m-> 3802\u001b[0;31m                 \u001b[0;32mreturn\u001b[0m \u001b[0mself\u001b[0m\u001b[0;34m.\u001b[0m\u001b[0m_engine\u001b[0m\u001b[0;34m.\u001b[0m\u001b[0mget_loc\u001b[0m\u001b[0;34m(\u001b[0m\u001b[0mcasted_key\u001b[0m\u001b[0;34m)\u001b[0m\u001b[0;34m\u001b[0m\u001b[0;34m\u001b[0m\u001b[0m\n\u001b[0m\u001b[1;32m   3803\u001b[0m             \u001b[0;32mexcept\u001b[0m \u001b[0mKeyError\u001b[0m \u001b[0;32mas\u001b[0m \u001b[0merr\u001b[0m\u001b[0;34m:\u001b[0m\u001b[0;34m\u001b[0m\u001b[0;34m\u001b[0m\u001b[0m\n",
            "\u001b[0;32m/usr/local/lib/python3.9/dist-packages/pandas/_libs/index.pyx\u001b[0m in \u001b[0;36mpandas._libs.index.IndexEngine.get_loc\u001b[0;34m()\u001b[0m\n",
            "\u001b[0;32m/usr/local/lib/python3.9/dist-packages/pandas/_libs/index.pyx\u001b[0m in \u001b[0;36mpandas._libs.index.IndexEngine.get_loc\u001b[0;34m()\u001b[0m\n",
            "\u001b[0;32mpandas/_libs/hashtable_class_helper.pxi\u001b[0m in \u001b[0;36mpandas._libs.hashtable.PyObjectHashTable.get_item\u001b[0;34m()\u001b[0m\n",
            "\u001b[0;32mpandas/_libs/hashtable_class_helper.pxi\u001b[0m in \u001b[0;36mpandas._libs.hashtable.PyObjectHashTable.get_item\u001b[0;34m()\u001b[0m\n",
            "\u001b[0;31mKeyError\u001b[0m: 'Partner'",
            "\nThe above exception was the direct cause of the following exception:\n",
            "\u001b[0;31mKeyError\u001b[0m                                  Traceback (most recent call last)",
            "\u001b[0;32m<ipython-input-18-4b34d04fabb9>\u001b[0m in \u001b[0;36m<cell line: 4>\u001b[0;34m()\u001b[0m\n\u001b[1;32m      2\u001b[0m \u001b[0mle\u001b[0m \u001b[0;34m=\u001b[0m \u001b[0mLabelEncoder\u001b[0m\u001b[0;34m(\u001b[0m\u001b[0;34m)\u001b[0m\u001b[0;34m\u001b[0m\u001b[0;34m\u001b[0m\u001b[0m\n\u001b[1;32m      3\u001b[0m \u001b[0mdata\u001b[0m\u001b[0;34m[\u001b[0m\u001b[0;34m\"Gender\"\u001b[0m\u001b[0;34m]\u001b[0m \u001b[0;34m=\u001b[0m \u001b[0mle\u001b[0m\u001b[0;34m.\u001b[0m\u001b[0mfit_transform\u001b[0m\u001b[0;34m(\u001b[0m\u001b[0mdata\u001b[0m\u001b[0;34m[\u001b[0m\u001b[0;34m\"Gender\"\u001b[0m\u001b[0;34m]\u001b[0m\u001b[0;34m)\u001b[0m\u001b[0;34m\u001b[0m\u001b[0;34m\u001b[0m\u001b[0m\n\u001b[0;32m----> 4\u001b[0;31m \u001b[0mdata\u001b[0m\u001b[0;34m[\u001b[0m\u001b[0;34m\"Partner\"\u001b[0m\u001b[0;34m]\u001b[0m \u001b[0;34m=\u001b[0m \u001b[0mle\u001b[0m\u001b[0;34m.\u001b[0m\u001b[0mfit_transform\u001b[0m\u001b[0;34m(\u001b[0m\u001b[0mdata\u001b[0m\u001b[0;34m[\u001b[0m\u001b[0;34m\"Partner\"\u001b[0m\u001b[0;34m]\u001b[0m\u001b[0;34m)\u001b[0m\u001b[0;34m\u001b[0m\u001b[0;34m\u001b[0m\u001b[0m\n\u001b[0m\u001b[1;32m      5\u001b[0m \u001b[0mdata\u001b[0m\u001b[0;34m[\u001b[0m\u001b[0;34m\"Dependents\"\u001b[0m\u001b[0;34m]\u001b[0m \u001b[0;34m=\u001b[0m \u001b[0mle\u001b[0m\u001b[0;34m.\u001b[0m\u001b[0mfit_transform\u001b[0m\u001b[0;34m(\u001b[0m\u001b[0mdata\u001b[0m\u001b[0;34m[\u001b[0m\u001b[0;34m\"Dependents\"\u001b[0m\u001b[0;34m]\u001b[0m\u001b[0;34m)\u001b[0m\u001b[0;34m\u001b[0m\u001b[0;34m\u001b[0m\u001b[0m\n\u001b[1;32m      6\u001b[0m \u001b[0mdata\u001b[0m\u001b[0;34m[\u001b[0m\u001b[0;34m\"Phoneservice\"\u001b[0m\u001b[0;34m]\u001b[0m \u001b[0;34m=\u001b[0m \u001b[0mle\u001b[0m\u001b[0;34m.\u001b[0m\u001b[0mfit_transform\u001b[0m\u001b[0;34m(\u001b[0m\u001b[0mdata\u001b[0m\u001b[0;34m[\u001b[0m\u001b[0;34m\"Phoneservice\"\u001b[0m\u001b[0;34m]\u001b[0m\u001b[0;34m)\u001b[0m\u001b[0;34m\u001b[0m\u001b[0;34m\u001b[0m\u001b[0m\n",
            "\u001b[0;32m/usr/local/lib/python3.9/dist-packages/pandas/core/frame.py\u001b[0m in \u001b[0;36m__getitem__\u001b[0;34m(self, key)\u001b[0m\n\u001b[1;32m   3805\u001b[0m             \u001b[0;32mif\u001b[0m \u001b[0mself\u001b[0m\u001b[0;34m.\u001b[0m\u001b[0mcolumns\u001b[0m\u001b[0;34m.\u001b[0m\u001b[0mnlevels\u001b[0m \u001b[0;34m>\u001b[0m \u001b[0;36m1\u001b[0m\u001b[0;34m:\u001b[0m\u001b[0;34m\u001b[0m\u001b[0;34m\u001b[0m\u001b[0m\n\u001b[1;32m   3806\u001b[0m                 \u001b[0;32mreturn\u001b[0m \u001b[0mself\u001b[0m\u001b[0;34m.\u001b[0m\u001b[0m_getitem_multilevel\u001b[0m\u001b[0;34m(\u001b[0m\u001b[0mkey\u001b[0m\u001b[0;34m)\u001b[0m\u001b[0;34m\u001b[0m\u001b[0;34m\u001b[0m\u001b[0m\n\u001b[0;32m-> 3807\u001b[0;31m             \u001b[0mindexer\u001b[0m \u001b[0;34m=\u001b[0m \u001b[0mself\u001b[0m\u001b[0;34m.\u001b[0m\u001b[0mcolumns\u001b[0m\u001b[0;34m.\u001b[0m\u001b[0mget_loc\u001b[0m\u001b[0;34m(\u001b[0m\u001b[0mkey\u001b[0m\u001b[0;34m)\u001b[0m\u001b[0;34m\u001b[0m\u001b[0;34m\u001b[0m\u001b[0m\n\u001b[0m\u001b[1;32m   3808\u001b[0m             \u001b[0;32mif\u001b[0m \u001b[0mis_integer\u001b[0m\u001b[0;34m(\u001b[0m\u001b[0mindexer\u001b[0m\u001b[0;34m)\u001b[0m\u001b[0;34m:\u001b[0m\u001b[0;34m\u001b[0m\u001b[0;34m\u001b[0m\u001b[0m\n\u001b[1;32m   3809\u001b[0m                 \u001b[0mindexer\u001b[0m \u001b[0;34m=\u001b[0m \u001b[0;34m[\u001b[0m\u001b[0mindexer\u001b[0m\u001b[0;34m]\u001b[0m\u001b[0;34m\u001b[0m\u001b[0;34m\u001b[0m\u001b[0m\n",
            "\u001b[0;32m/usr/local/lib/python3.9/dist-packages/pandas/core/indexes/base.py\u001b[0m in \u001b[0;36mget_loc\u001b[0;34m(self, key, method, tolerance)\u001b[0m\n\u001b[1;32m   3802\u001b[0m                 \u001b[0;32mreturn\u001b[0m \u001b[0mself\u001b[0m\u001b[0;34m.\u001b[0m\u001b[0m_engine\u001b[0m\u001b[0;34m.\u001b[0m\u001b[0mget_loc\u001b[0m\u001b[0;34m(\u001b[0m\u001b[0mcasted_key\u001b[0m\u001b[0;34m)\u001b[0m\u001b[0;34m\u001b[0m\u001b[0;34m\u001b[0m\u001b[0m\n\u001b[1;32m   3803\u001b[0m             \u001b[0;32mexcept\u001b[0m \u001b[0mKeyError\u001b[0m \u001b[0;32mas\u001b[0m \u001b[0merr\u001b[0m\u001b[0;34m:\u001b[0m\u001b[0;34m\u001b[0m\u001b[0;34m\u001b[0m\u001b[0m\n\u001b[0;32m-> 3804\u001b[0;31m                 \u001b[0;32mraise\u001b[0m \u001b[0mKeyError\u001b[0m\u001b[0;34m(\u001b[0m\u001b[0mkey\u001b[0m\u001b[0;34m)\u001b[0m \u001b[0;32mfrom\u001b[0m \u001b[0merr\u001b[0m\u001b[0;34m\u001b[0m\u001b[0;34m\u001b[0m\u001b[0m\n\u001b[0m\u001b[1;32m   3805\u001b[0m             \u001b[0;32mexcept\u001b[0m \u001b[0mTypeError\u001b[0m\u001b[0;34m:\u001b[0m\u001b[0;34m\u001b[0m\u001b[0;34m\u001b[0m\u001b[0m\n\u001b[1;32m   3806\u001b[0m                 \u001b[0;31m# If we have a listlike key, _check_indexing_error will raise\u001b[0m\u001b[0;34m\u001b[0m\u001b[0;34m\u001b[0m\u001b[0m\n",
            "\u001b[0;31mKeyError\u001b[0m: 'Partner'"
          ]
        }
      ]
    },
    {
      "cell_type": "code",
      "source": [
        "data.head()"
      ],
      "metadata": {
        "id": "HLACBkte6-8m"
      },
      "execution_count": null,
      "outputs": []
    },
    {
      "cell_type": "code",
      "source": [
        "x=data.iloc[:,0:19].values\n",
        "y=data.iloc[:,19:20].values"
      ],
      "metadata": {
        "id": "vdYzsifd7HWl"
      },
      "execution_count": null,
      "outputs": []
    },
    {
      "cell_type": "code",
      "source": [
        "x"
      ],
      "metadata": {
        "id": "8SqYBpT67Nfw"
      },
      "execution_count": null,
      "outputs": []
    },
    {
      "cell_type": "code",
      "source": [
        "y"
      ],
      "metadata": {
        "id": "PgscX8qx7UUA"
      },
      "execution_count": null,
      "outputs": []
    },
    {
      "cell_type": "code",
      "source": [
        "from sklearn.preprocessing import OneHotEncoder\n",
        "one = OneHotEncoder()\n",
        "a= one.fit_transform(x[:6,:7]).toarray()\n",
        "b= one.fit_transform(x[:,7:8]).toarray()\n",
        "c= one.fit_transform(x[:,8:9]).toarray()\n",
        "d= one.fit_transform(x[:,9:10]).toarray()\n",
        "e= one.fit_transform(x[:,10:11]).toarray()\n",
        "f= one.fit_transform(x[:,11:12]).toarray()\n",
        "g= one.fit_transform(x[:,12:13]).toarray()\n",
        "h= one.fit_transform(x[:,13:14]).toarray()\n",
        "i= one.fit_transform(x[:,14:15]).toarray()\n",
        "j= one.fit_transform(x[:,16:17]).toarray()\n",
        "x=np.delete(x,[6,7,8,9,10,11,12,13,14,16],axis=1)\n",
        "x=np.concatenate((a,b,c,d,e,f,g,h,i,j,x),axis=1)"
      ],
      "metadata": {
        "id": "B61bTq3d7YNm"
      },
      "execution_count": null,
      "outputs": []
    },
    {
      "cell_type": "code",
      "source": [
        "from imblearn.over_sampling import SMOTE"
      ],
      "metadata": {
        "id": "krKPrZkN7ixC"
      },
      "execution_count": null,
      "outputs": []
    },
    {
      "cell_type": "code",
      "source": [
        "smt = SMOTE()\n",
        "x_resample, y_resample = smt.fit_resample(x,y)"
      ],
      "metadata": {
        "id": "-LEqugyO7vMd"
      },
      "execution_count": null,
      "outputs": []
    },
    {
      "cell_type": "code",
      "source": [
        "x_resample"
      ],
      "metadata": {
        "id": "MpIKV8sD76cF"
      },
      "execution_count": null,
      "outputs": []
    },
    {
      "cell_type": "code",
      "source": [
        "y_resample"
      ],
      "metadata": {
        "id": "Esy6U21B8DL4"
      },
      "execution_count": null,
      "outputs": []
    },
    {
      "cell_type": "code",
      "source": [
        "data.describe()"
      ],
      "metadata": {
        "id": "86Z8_H8B8GlV"
      },
      "execution_count": null,
      "outputs": []
    },
    {
      "cell_type": "code",
      "source": [
        "plt.figure(figsize=(12,5))\n",
        "plt.subplot(1,2,3)\n",
        "sns.distplot(data[\"tenure\"])\n",
        "plt.subplot(1,2,2)\n",
        "sns,displot(data[\"MonthlyCharges\"])"
      ],
      "metadata": {
        "id": "i_vAknD08Rgn"
      },
      "execution_count": null,
      "outputs": []
    },
    {
      "cell_type": "code",
      "source": [
        "plt.figure(figsize=(12,5))\n",
        "plt.subplot(1,2,3)\n",
        "sns.countplot(data[\"gender\"])\n",
        "plt.subplot(1,2,2)\n",
        "sns,countplot(data[\"Dependents\"])"
      ],
      "metadata": {
        "id": "S2Wb8R609P1L"
      },
      "execution_count": null,
      "outputs": []
    },
    {
      "cell_type": "code",
      "source": [
        "sns.barplot(x=\"Churn\",y=\"MonthlyCharges\",data=data)"
      ],
      "metadata": {
        "id": "vKaYTpUE9jwa"
      },
      "execution_count": null,
      "outputs": []
    },
    {
      "cell_type": "code",
      "source": [
        "sns.heatmap(data.corr(),annot=true)"
      ],
      "metadata": {
        "id": "N836KmdR-Lan"
      },
      "execution_count": null,
      "outputs": []
    },
    {
      "cell_type": "code",
      "source": [
        "sns.pairplot(data=data,markers=[\"^\",\"v\"],palette=\"inferno\")"
      ],
      "metadata": {
        "id": "o4hZEp7p-ara"
      },
      "execution_count": null,
      "outputs": []
    },
    {
      "cell_type": "code",
      "source": [
        "from sklearn.model_selection import train_test_split\n",
        "x_train,x_test,y_train,y_test=train_test_split(x,resample,y_resample,test_size=0.2),random_state=0)"
      ],
      "metadata": {
        "id": "-a3V2VyC_2BG"
      },
      "execution_count": null,
      "outputs": []
    },
    {
      "cell_type": "code",
      "source": [
        "from sklearn.preprocessing import StandardScaler\n",
        "sc = StandardScaler()\n",
        "X_train = sc.fit_transform(x_train)\n",
        "X_test = sc.fit_transform(x_test)"
      ],
      "metadata": {
        "id": "jkJy3NmwAAwy"
      },
      "execution_count": null,
      "outputs": []
    },
    {
      "cell_type": "code",
      "source": [
        "x_train.shape"
      ],
      "metadata": {
        "id": "UadCqdBPAeoM"
      },
      "execution_count": null,
      "outputs": []
    },
    {
      "cell_type": "code",
      "source": [
        "#importing and building the decision tree model\n",
        "def logreg (x_train,x_test,y_train,y_test):\n",
        "  lr = LogisticRegression(random_state=0)\n",
        "  lr.fit(x_train,y_train)\n",
        "  y_lr_lr = lr.predict(x_train)\n",
        "  y_lr_tr = lr.predict(x_train)\n",
        "  print(accuracy_score(y_lr_tr,y_train))\n",
        "  ypred_lr = lr.predict(x_test)\n",
        "  print(accuracy_score(ypred_lr,y_test))\n",
        "  print(\"***Logistic regression***\")\n",
        "  print(\"confusion_matrix\")\n",
        "  print(confusion_matrix(y_test,ypred_lr))\n",
        "  print(\"classification report\")\n",
        "  print(classification_report(y_test,ypred_lr))"
      ],
      "metadata": {
        "id": "cJiXUqx4A19J"
      },
      "execution_count": null,
      "outputs": []
    },
    {
      "cell_type": "code",
      "source": [
        "#printing the train accuracy and test accuracy respectively\n",
        "logreg(x_train,x_train,y_train,y_train)"
      ],
      "metadata": {
        "id": "y34kBgQLIuGw"
      },
      "execution_count": null,
      "outputs": []
    },
    {
      "cell_type": "code",
      "source": [
        "#importing and building the decision tree model\n",
        "def decision(x_train,x_test,y_train,y_test):\n",
        "    dtc = DecisionTreeClassifier(criterion=\"entropy\", random_state=0)\n",
        "    dtc.fit(x_train,y_train)\n",
        "    y_dt_tr = dtc.predict(x_train)\n",
        "    print(accuracy_score(y_dt_tr,y_train))\n",
        "    ypred_dt = dtc.predict(x_train)\n",
        "    print(accuracy_score(ypred_dt,y_test))\n",
        "    print(\"***Decision Tree***\")\n",
        "    print(\"confusion_matrix\")\n",
        "    print(confusion_matrix(y_trst,ypred_dt))\n",
        "    print(\"Classification Report\") \n",
        "    print(classification_report(y_test,ypred_dt))"
      ],
      "metadata": {
        "id": "26G5U0IKJEVF"
      },
      "execution_count": null,
      "outputs": []
    },
    {
      "cell_type": "code",
      "source": [
        "#printing the train accuracy and test accuracy respectively\n",
        "decisionTree(x_train,x_test,y_train,y_test)"
      ],
      "metadata": {
        "id": "zWzOPB46oNpj"
      },
      "execution_count": null,
      "outputs": []
    },
    {
      "cell_type": "code",
      "source": [
        "#importing and building the random forest model\n",
        "def RandomForest (x_train,x_test,y_train,y_test):\n",
        "  rf =RandomForestClassifier(criterion=\"entropy\",n_estimators=10,random_sate=0)\n",
        "  rf.fit(x_train,y_train)\n",
        "  y_rf_tr = rf.predict(x_train)\n",
        "  print(accuracy_score(y_lr_tr,y_train))\n",
        "  ypred_rf = rf.predict(x_test)\n",
        "  print(accuracy_score(ypred_rf,y_test))\n",
        "  print(\"***RandomForest***\")\n",
        "  print(\"confusion_matrix\")\n",
        "  print(confusion_matrix(y_test,ypred_rf))\n",
        "  print(\"classification report\")\n",
        "  print(classification_report(y_test,ypred_rf))"
      ],
      "metadata": {
        "id": "kCklSe6AqYBh"
      },
      "execution_count": null,
      "outputs": []
    },
    {
      "cell_type": "code",
      "source": [
        "#printing the train accuracy and test accuracy respectively\n",
        "RandomForest(x_train,x_test,y_train,y_test)"
      ],
      "metadata": {
        "id": "3SjmnM6Dqai7"
      },
      "execution_count": null,
      "outputs": []
    },
    {
      "cell_type": "code",
      "source": [
        "#importing and building the random forest model\n",
        "def KNN(x_train,x_test,y_train,y_test):\n",
        "  knn =KNeigborsClassifier()\n",
        "  knn.fit(x_train,y_train)\n",
        "  y_knn_tr = knn.predict(x_train)\n",
        "  print(accuracy_score(y_knn_tr,y_train))\n",
        "  ypred_knn = knn.predict(x_test)\n",
        "  print(accuracy_score(ypred_knn,y_test))\n",
        "  print(\"***KNN***\")\n",
        "  print(\"confusion_matrix\")\n",
        "  print(confusion_matrix(y_test,ypred_knn))\n",
        "  print(\"classification report\")\n",
        "  print(classification_report(y_test,ypred_knn))"
      ],
      "metadata": {
        "id": "-egFW2huqrR-"
      },
      "execution_count": null,
      "outputs": []
    },
    {
      "cell_type": "code",
      "source": [
        "#printing the train accuracy and test accuracy respectively\n",
        "KNN(x_train,x_test,y_train,y_test)"
      ],
      "metadata": {
        "id": "BpsfLG5DxW3K"
      },
      "execution_count": null,
      "outputs": []
    },
    {
      "cell_type": "code",
      "source": [
        "#importing and building the random forest model\n",
        "def SVM(x_train,x_test,y_train,y_test):\n",
        "  svm =SVC(kernel = \"linear\")\n",
        "  svm.fit(x_train,y_train)\n",
        "  y_svm_tr = svm.predict(x_train)\n",
        "  print(accuracy_score(y_svm_tr,y_train))\n",
        "  ypred_svm = svm.predict(x_test)\n",
        "  print(accuracy_score(ypred_svm,y_test))\n",
        "  print(\"***Support Vector Machine***\")\n",
        "  print(\"confusion_matrix\")\n",
        "  print(confusion_matrix(y_test,ypred_svm))\n",
        "  print(\"classification report\")\n",
        "  print(classification_report(y_test,ypred_svm))\n"
      ],
      "metadata": {
        "id": "-FmEUgKExgHe"
      },
      "execution_count": null,
      "outputs": []
    },
    {
      "cell_type": "code",
      "source": [
        "#printing the train accuracy and test accuracy respectively\n",
        "svm(x_train,x_test,y_train,y_test)"
      ],
      "metadata": {
        "id": "v7KAn812zket"
      },
      "execution_count": null,
      "outputs": []
    },
    {
      "cell_type": "code",
      "source": [
        "#importing the keras libaries and packages\n",
        "import keras\n",
        "from keras.models import Sequential\n",
        "from keras.layers import Dense"
      ],
      "metadata": {
        "id": "94QKbxcXzo5F"
      },
      "execution_count": null,
      "outputs": []
    },
    {
      "cell_type": "code",
      "source": [
        "#Initialinsing the ANN\n",
        "classifier = sequential()"
      ],
      "metadata": {
        "id": "IZwShQod1DkE"
      },
      "execution_count": null,
      "outputs": []
    },
    {
      "cell_type": "code",
      "source": [
        "#Adding the  input and the first hidden layer\n",
        "classifier.add(Dense(units=30,activation='relu',input_dim=40))"
      ],
      "metadata": {
        "id": "l4cFPQge1PTY"
      },
      "execution_count": null,
      "outputs": []
    },
    {
      "cell_type": "code",
      "source": [
        "#Adding the second hidden layer\n",
        "classifier.add(Dense(units=30,activation='relu'))"
      ],
      "metadata": {
        "id": "oXXyIMah1jaO"
      },
      "execution_count": null,
      "outputs": []
    },
    {
      "cell_type": "code",
      "source": [
        "#Adding the output layer\n",
        "classifier.add(Dense(unit=1,activation='sigmoid'))"
      ],
      "metadata": {
        "id": "kUSfBod-131-"
      },
      "execution_count": null,
      "outputs": []
    },
    {
      "cell_type": "code",
      "source": [
        "#comppliling theANN\n",
        "classifier.complie(optimizer='adam',loss='binary_crossentropty',metrics=['accuracy'])"
      ],
      "metadata": {
        "id": "wi8f22OV2Icn"
      },
      "execution_count": null,
      "outputs": []
    },
    {
      "cell_type": "code",
      "source": [
        "#Fitting the ANN to the Training set\n",
        "model_history = classifier.fit(x_train,y_train,batch_size=10,validation_split=0.33, epochs=200)"
      ],
      "metadata": {
        "id": "4bY1bRRA21Pa"
      },
      "execution_count": null,
      "outputs": []
    },
    {
      "cell_type": "code",
      "source": [
        "print(accuracy_score(ann_pred,y_test))\n",
        "print(\"***ANN Model***\")\n",
        "print(\"confusion_Matrix\")\n",
        "print(confusion_matrix(y_test,ann_pred))\n",
        "print(\"Classification Report\")\n",
        "print(classification_report(y_test,ann_pred))"
      ],
      "metadata": {
        "id": "3ZR473pz3Zrl"
      },
      "execution_count": null,
      "outputs": []
    },
    {
      "cell_type": "code",
      "source": [
        "#testing on random input values\n",
        "lr = LogisticRegression(random_state=0)\n",
        "lr.fit(x_train,y_train)\n",
        "print(\"Predicting on random input\")\n",
        "lr_pred_own = lr.predict(sc.transform([[0,0,1,1,0,0,0,0,1,0,0,1,0,0,1,0,0,1,0,0,1,0,0,1,0,0,1,1,0,0,456,1,0,3245,5567]]))\n",
        "print(\"output is: \",lr_pred_own)"
      ],
      "metadata": {
        "id": "Dq2nur7g4oNx"
      },
      "execution_count": null,
      "outputs": []
    },
    {
      "cell_type": "code",
      "source": [
        "#testing on random input values\n",
        "rf = RandomForestClassifier(criterion=\"entropy\",n_estimators=10,random_state=0)\n",
        "rf.fit(x_train,y_train)\n",
        "print(\"Predicting on random input\")\n",
        "rf_pred_own = rf.predict(sc.transform([[0,0,1,1,0,0,0,0,1,0,0,1,0,0,1,0,0,1,0,0,1,0,0,1,0,0,1,1,0,0,456,1,0,3245,5567]]))\n",
        "print(\"output is: \",rf_pred_own)"
      ],
      "metadata": {
        "id": "1zTuyZlu8Q4L"
      },
      "execution_count": null,
      "outputs": []
    },
    {
      "cell_type": "code",
      "source": [
        "#testing on random input values\n",
        "svc = SVC(criterion=\"entropy\",n_estimators=10,random_state=0)\n",
        "svc.fit(x_train,y_train)\n",
        "print(\"Predicting on random input\")\n",
        "svm_pred_own = svc.predict(sc.transform([[0,0,1,1,0,0,0,0,1,0,0,1,0,0,1,0,0,1,0,0,1,0,0,1,0,0,1,1,0,0,456,1,0,3245,5567]]))\n",
        "print(\"output is: \",svc_pred_own)"
      ],
      "metadata": {
        "id": "Nmzrr3vT8U1u"
      },
      "execution_count": null,
      "outputs": []
    },
    {
      "cell_type": "code",
      "source": [
        "#testing on random input values\n",
        "knn = KNN(criterion=\"entropy\",n_estimators=10,random_state=0)\n",
        "knn.fit(x_train,y_train)\n",
        "print(\"Predicting on random input\")\n",
        "knn_pred_own = knn.predict(sc.transform([[0,0,1,1,0,0,0,0,1,0,0,1,0,0,1,0,0,1,0,0,1,0,0,1,0,0,1,1,0,0,456,1,0,3245,5567]]))\n",
        "print(\"output is: \",knn_pred_own)"
      ],
      "metadata": {
        "id": "ukvr9Dpyh9tL"
      },
      "execution_count": null,
      "outputs": []
    },
    {
      "cell_type": "code",
      "source": [
        "#testing on random input values\n",
        "print(\"Predicting on random input\")\n",
        "ann_pred_own = classifier.predict(sc.transform([[0,0,1,1,0,0,0,0,1,0,0,1,0,0,1,0,0,1,0,0,1,0,0,1,0,0,1,1,0,0,456,1,0,3245,5567]]))\n",
        "print(ann_pred_own)\n",
        "ann_pred_own = (ann_pred_own>0.5)\n",
        "print(\"output is: \",ann_pred_own)"
      ],
      "metadata": {
        "id": "1xK6vvUdiUw3"
      },
      "execution_count": null,
      "outputs": []
    },
    {
      "cell_type": "code",
      "source": [
        "def comparemodel(x_train,x_test,y_train,y_test):\n",
        "      logreg(x_train,x_test,y_train,y_test)\n",
        "      print('-'*100)\n",
        "      decisiontree(x_train,x_test,y_train,y_test)\n",
        "      print('-'*100)\n",
        "      RandomForest(x_train,x_test,y_train,y_test)\n",
        "      print('-'*100)\n",
        "      svm(x_train,x_test,y_train,y_test) \n",
        "      print('-'*100)\n",
        "      KNN(x_train,x_test,y_train,y_test)\n",
        "      print('-'*100)\n",
        "      compareModel(x_train,x_test,y_train,y_test)\n",
        "      "
      ],
      "metadata": {
        "id": "H8LdBGU_jUrj"
      },
      "execution_count": null,
      "outputs": []
    },
    {
      "cell_type": "code",
      "source": [
        "print(accuracy_score(ann_pred,y_test))\n",
        "print(\"***ANN Model***\")\n",
        "print(\"Confusion_matrix\")\n",
        "print(confusion_matrix(y_test,ann_pred))\n",
        "print(\"classification Report\")\n",
        "print(classification_report(y_test,ann_pred)) "
      ],
      "metadata": {
        "id": "h4jou4Y1leU-"
      },
      "execution_count": null,
      "outputs": []
    },
    {
      "cell_type": "code",
      "source": [
        "y_rf = model.predict(x_train)\n",
        "print(accuracy_score(y_rf,y_train))\n",
        "ypred_rfcv = model.prdict(x_train)\n",
        "print(accuracy_score(ypred_rfcv,y_test))\n",
        "print(\"***Random Forest after Hyperparameter tuning***\")\n",
        "print(\"confusion_Matrix\")\n",
        "print(confusion_matrix(y_test,ypred_rfcv))\n",
        "print(\"classification Report\")\n",
        "print(classification_report(y_test,ypred_rfcv))\n",
        "print(\"presdicting on random input\")\n",
        "rfcv_pred_own = model.predict(sc.transform([[0,0,1,1,0,0,0,0,1,0,0,1,0,0,1,0,0,1,0,0,1,0,0,1,0,0,1,1,0,0,456,1,0,3245,5567]]))\n",
        "print(\"output is: \",rfcv_pred_own)"
      ],
      "metadata": {
        "id": "uazqUcFcmRzZ"
      },
      "execution_count": null,
      "outputs": []
    },
    {
      "cell_type": "code",
      "source": [
        "from flask import Flask,render_template,request\n",
        "import keras\n",
        "from keras.models import load_model"
      ],
      "metadata": {
        "id": "DdvirQyRBY56"
      },
      "execution_count": null,
      "outputs": []
    },
    {
      "cell_type": "code",
      "source": [
        "app = flask(__name__)\n",
        "model = load_models import(\"telcom_churn.h5\")"
      ],
      "metadata": {
        "id": "Pn8KMr-6vz4T"
      },
      "execution_count": null,
      "outputs": []
    },
    {
      "cell_type": "code",
      "source": [
        "@app.route('/') # rendering the html template\n",
        "def home():\n",
        "      return render_templete('home.html')"
      ],
      "metadata": {
        "id": "oDRGL6ClwAK2"
      },
      "execution_count": null,
      "outputs": []
    },
    {
      "cell_type": "code",
      "source": [
        "@app.route('/')\n",
        "def helloworid():\n",
        "      return render_template(\"base.html\")\n",
        "@app.route('/assesment')\n",
        "def prediction():\n",
        "     return render_template(\"index.html\")\n",
        "@app.route('/predict',method = ['post'])\n",
        "def admin():\n",
        "a= request.form[\"gender\"]\n",
        "if (a == 'f'):\n",
        "    a=0\n",
        "if (a == 'm'):\n",
        "    a=1\n",
        "b=  request.form[\"srcitizen\"]\n",
        "if (b == 'n'): \n",
        "    b=0\n",
        "if (b == 'y'):\n",
        "   b=1\n",
        "c=  request.form[\"partner\"]\n",
        "if (c == 'n'): \n",
        "    c=0\n",
        "if (c == 'y'):\n",
        "   c=1\n",
        "d=  request.form[\"dependents\"]\n",
        "if (d == 'n'): \n",
        "    d=0\n",
        "if (d == 'y'):\n",
        "   d=1\n",
        "e= request.form[\"tenure\"]\n",
        "f=request.form[\"phservices\"]\n",
        "if (f == 'n'): \n",
        "    f=0\n",
        "if (f == 'y'):\n",
        "   f=1\n",
        "g= request.form[\"multi\"]\n",
        "if (g == 'n'):\n",
        "   g1,g2,g3,=1,0,0\n",
        "if (g == 'nps'):\n",
        "   g1,g2,g3=0,1,0\n",
        "if (g == 'y'):\n",
        "   g1,g2,g3=0,0,1\n",
        "h= request.form[\"is\"]\n",
        "if (h == 'dsl'):\n",
        "   h1,h2,h3,=1,0,0\n",
        "if (h == 'fo'):\n",
        "   h1,h2,h3=0,1,0\n",
        "if (h == 'n'):\n",
        "    h1,h2,h3=0,0,1\n",
        "i= request.form[\"os\"]\n",
        "if (i == 'n'):\n",
        "    i1,i2,i3,=1,0,0\n",
        "if (i == 'nis'):\n",
        "   i1,i2,i3=0,1,0\n",
        "if (g == 'y'):\n",
        "    i1,i2,i3=0,0,1\n",
        "j= request.form[\"ob\"]\n",
        "if (j == 'n'):\n",
        "   j1,j2,j3,=1,0,0\n",
        "if (j == 'nis'):\n",
        "  j1,j2,j3=0,1,0\n",
        "if (j == 'y'):\n",
        "   j1,j2,j3=0,0,1\n",
        "k= request.form[\"dp\"]\n",
        "if (k == 'n'):\n",
        "   k1,k2,k3,=1,0,0\n",
        "if (k == 'nis'):\n",
        "  k1,k2,k3=0,1,0\n",
        "if (k == 'y'):\n",
        "   k1,k2,k3=0,0,1\n",
        "l= request.form[\"ts\"]\n",
        "if (l == 'n'):\n",
        "   l1,l2,l3,=1,0,0\n",
        "if (l == 'nis'):\n",
        "  l1,l2,l3=0,1,0\n",
        "if (l == 'y'):\n",
        "   l1,l2,l3=0,0,1\n",
        "m= request.form[\"stv\"]\n",
        "if (m == 'n'):\n",
        "   m1,m2,m3,=1,0,0\n",
        "if (m == 'nis'):\n",
        "  m1,m2,m3=0,1,0\n",
        "if (m == 'y'):\n",
        "   m1,m2,m3=0,0,1\n",
        "n= request.form[\"smv\"]\n",
        "if (n == 'n'):\n",
        "   n1,n2,n3,=1,0,0\n",
        "if (n == 'nis'):\n",
        "  n1,n2,n3=0,1,0\n",
        "if (n == 'y'):\n",
        "   n1,n2,n3=0,0,1\n",
        "o= request.form[\"contract\"]\n",
        "if (o == 'mtm'):\n",
        "   o1,o2,o3,=1,0,0\n",
        "if (o == 'oyr'):\n",
        "  o1,o2,o3=0,1,0\n",
        "if (o == 'tyrs'):\n",
        "   o1,o2,o3=0,0,1\n",
        "p= request.form[\"pmt\"]\n",
        "if (p == 'ec'):\n",
        "   p1,p2,p3,p4=1,0,0,0\n",
        "if (p == 'mail'):\n",
        "  p1,p2,p3,p4=0,1,0,0\n",
        "if (p == 'bt'):\n",
        "   p1,p2,p3,p4=0,0,0,1\n",
        "q= request.form[\"plb\"]\n",
        "if (q == 'n'):\n",
        "    q=0\n",
        "if (q =='y'):\n",
        "    q=1\n",
        "r= request.form[\"mcharges\"]\n",
        "s= request.form[\"tcharges\"]\n",
        "\n",
        "t=[[int(g1),int(g2),int(g3),int(h1),int(h2),int(h3),int(i1),int(i2),int(i3),int(j1),int(j2),int(j3),int(k1),int(k2),int(k3),int(l1),int(l2),int(l3),int(m1),int(m2),int(m3),int(n1),int(n2),int(n3),int(o1),int(o2),int(o3),int(p1),int(p2),int(p3),int(p4)]]\n",
        "print(t)\n",
        "x = model.predict(t)\n",
        "print(x[[0]] <=0.5):\n",
        "     y = \"No\"\n",
        "     return render_template(\"predno.html\", z = y)\n",
        "if (x[[0]] >= 0.5);\n",
        "y \"yes\"\n",
        "return render_template(\"predyes.html\", z = y)\n",
        "\n"
      ],
      "metadata": {
        "id": "VuHteSf2wE73",
        "colab": {
          "base_uri": "https://localhost:8080/",
          "height": 130
        },
        "outputId": "2cfddca6-6ce2-4374-8252-079e23a99856"
      },
      "execution_count": null,
      "outputs": [
        {
          "output_type": "error",
          "ename": "IndentationError",
          "evalue": "ignored",
          "traceback": [
            "\u001b[0;36m  File \u001b[0;32m\"<ipython-input-3-0dceac35f9cf>\"\u001b[0;36m, line \u001b[0;32m9\u001b[0m\n\u001b[0;31m    a= request.form[\"gender\"]\u001b[0m\n\u001b[0m    ^\u001b[0m\n\u001b[0;31mIndentationError\u001b[0m\u001b[0;31m:\u001b[0m expected an indented block\n"
          ]
        }
      ]
    }
  ]
}